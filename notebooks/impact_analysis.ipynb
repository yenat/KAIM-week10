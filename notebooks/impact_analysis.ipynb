{
 "cells": [
  {
   "cell_type": "code",
   "execution_count": 2,
   "metadata": {},
   "outputs": [
    {
     "name": "stderr",
     "output_type": "stream",
     "text": [
      "/tmp/ipykernel_20592/1782906188.py:8: UserWarning: The argument 'infer_datetime_format' is deprecated and will be removed in a future version. A strict version of it is now the default, see https://pandas.pydata.org/pdeps/0004-consistent-to-datetime-parsing.html. You can safely remove this argument.\n",
      "  merged_data['Date'] = pd.to_datetime(merged_data['Date'], infer_datetime_format=True)\n"
     ]
    },
    {
     "data": {
      "text/plain": [
       "{'Lehman Brothers Bankruptcy': {'t_stat': np.float64(6.523362382132846),\n",
       "  'p_value': np.float64(7.013699048678547e-08)},\n",
       " 'WHO Declares COVID-19 a Pandemic': {'t_stat': np.float64(15.390200818204281),\n",
       "  'p_value': np.float64(2.524922801425046e-19)},\n",
       " 'Russia Invades Ukraine': {'t_stat': np.float64(-9.69464258238087),\n",
       "  'p_value': np.float64(2.1938218600646873e-12)}}"
      ]
     },
     "execution_count": 2,
     "metadata": {},
     "output_type": "execute_result"
    }
   ],
   "source": [
    "import pandas as pd\n",
    "from scipy.stats import ttest_ind\n",
    "\n",
    "# Load the merged data\n",
    "merged_data = pd.read_csv('../scripts/merged_data.csv')\n",
    "\n",
    "# Convert 'Date' column to datetime format\n",
    "merged_data['Date'] = pd.to_datetime(merged_data['Date'], infer_datetime_format=True)\n",
    "\n",
    "# Set 'Date' as the index\n",
    "merged_data.set_index('Date', inplace=True)\n",
    "\n",
    "# Define significant events\n",
    "significant_events = {\n",
    "    '2008-09-15': 'Lehman Brothers Bankruptcy',\n",
    "    '2020-03-11': 'WHO Declares COVID-19 a Pandemic',\n",
    "    '2022-02-24': 'Russia Invades Ukraine'\n",
    "}\n",
    "\n",
    "# Function to perform t-test for impact analysis\n",
    "def event_impact_test(event_date, window=30):\n",
    "    event_date = pd.to_datetime(event_date)\n",
    "    pre_event_window = merged_data.loc[event_date - pd.Timedelta(days=window):event_date]\n",
    "    post_event_window = merged_data.loc[event_date:event_date + pd.Timedelta(days=window)]\n",
    "    \n",
    "    t_stat, p_value = ttest_ind(pre_event_window['Price'], post_event_window['Price'], nan_policy='omit')\n",
    "    return t_stat, p_value\n",
    "\n",
    "# Analyze the impact of each event\n",
    "impact_results = {}\n",
    "for date, event in significant_events.items():\n",
    "    t_stat, p_value = event_impact_test(date)\n",
    "    impact_results[event] = {'t_stat': t_stat, 'p_value': p_value}\n",
    "\n",
    "# Display impact results\n",
    "impact_results\n"
   ]
  },
  {
   "cell_type": "code",
   "execution_count": 3,
   "metadata": {},
   "outputs": [
    {
     "data": {
      "text/plain": [
       "{'Lehman Brothers Bankruptcy': {'Pre-event Mean': np.float64(105.56428571428572),\n",
       "  'Post-event Mean': np.float64(88.34347826086956),\n",
       "  'Percentage Change': np.float64(-16.313099962637946)},\n",
       " 'WHO Declares COVID-19 a Pandemic': {'Pre-event Mean': np.float64(52.21826086956521),\n",
       "  'Post-event Mean': np.float64(24.358695652173918),\n",
       "  'Percentage Change': np.float64(-53.35215067192885)},\n",
       " 'Russia Invades Ukraine': {'Pre-event Mean': np.float64(95.48565217391305),\n",
       "  'Post-event Mean': np.float64(115.88181818181819),\n",
       "  'Percentage Change': np.float64(21.36045106625708)}}"
      ]
     },
     "execution_count": 3,
     "metadata": {},
     "output_type": "execute_result"
    }
   ],
   "source": [
    "# Function to calculate price changes before, during, and after events\n",
    "def event_price_changes(event_date, window=30):\n",
    "    event_date = pd.to_datetime(event_date)\n",
    "    pre_event = merged_data.loc[event_date - pd.Timedelta(days=window):event_date]['Price']\n",
    "    post_event = merged_data.loc[event_date:event_date + pd.Timedelta(days=window)]['Price']\n",
    "    \n",
    "    pre_mean = pre_event.mean()\n",
    "    post_mean = post_event.mean()\n",
    "    change = ((post_mean - pre_mean) / pre_mean) * 100  # Percentage change\n",
    "    \n",
    "    return pre_mean, post_mean, change\n",
    "\n",
    "# Analyze price changes for each event\n",
    "price_changes_results = {}\n",
    "for date, event in significant_events.items():\n",
    "    pre_mean, post_mean, change = event_price_changes(date)\n",
    "    price_changes_results[event] = {'Pre-event Mean': pre_mean, 'Post-event Mean': post_mean, 'Percentage Change': change}\n",
    "\n",
    "# Display price changes results\n",
    "price_changes_results\n"
   ]
  },
  {
   "cell_type": "code",
   "execution_count": null,
   "metadata": {},
   "outputs": [],
   "source": []
  },
  {
   "cell_type": "code",
   "execution_count": 4,
   "metadata": {},
   "outputs": [
    {
     "name": "stdout",
     "output_type": "stream",
     "text": [
      "Event: Lehman Brothers Bankruptcy\n",
      "Pre-event Mean Price: 105.56\n",
      "Post-event Mean Price: 88.34\n",
      "Percentage Change: -16.31%\n",
      "T-statistic: 6.52\n",
      "P-value: 0.0000\n",
      "--------------------------------------------------\n",
      "Event: WHO Declares COVID-19 a Pandemic\n",
      "Pre-event Mean Price: 52.22\n",
      "Post-event Mean Price: 24.36\n",
      "Percentage Change: -53.35%\n",
      "T-statistic: 15.39\n",
      "P-value: 0.0000\n",
      "--------------------------------------------------\n",
      "Event: Russia Invades Ukraine\n",
      "Pre-event Mean Price: 95.49\n",
      "Post-event Mean Price: 115.88\n",
      "Percentage Change: 21.36%\n",
      "T-statistic: -9.69\n",
      "P-value: 0.0000\n",
      "--------------------------------------------------\n"
     ]
    }
   ],
   "source": [
    "# Summarize findings\n",
    "insights = []\n",
    "\n",
    "for event in significant_events.values():\n",
    "    t_stat = impact_results[event]['t_stat']\n",
    "    p_value = impact_results[event]['p_value']\n",
    "    pre_mean = price_changes_results[event]['Pre-event Mean']\n",
    "    post_mean = price_changes_results[event]['Post-event Mean']\n",
    "    change = price_changes_results[event]['Percentage Change']\n",
    "    \n",
    "    summary = (f\"Event: {event}\\n\"\n",
    "               f\"Pre-event Mean Price: {pre_mean:.2f}\\n\"\n",
    "               f\"Post-event Mean Price: {post_mean:.2f}\\n\"\n",
    "               f\"Percentage Change: {change:.2f}%\\n\"\n",
    "               f\"T-statistic: {t_stat:.2f}\\n\"\n",
    "               f\"P-value: {p_value:.4f}\\n\"\n",
    "               f\"{'-'*50}\")\n",
    "    \n",
    "    insights.append(summary)\n",
    "\n",
    "# Display insights\n",
    "for insight in insights:\n",
    "    print(insight)\n"
   ]
  }
 ],
 "metadata": {
  "kernelspec": {
   "display_name": "Python 3",
   "language": "python",
   "name": "python3"
  },
  "language_info": {
   "codemirror_mode": {
    "name": "ipython",
    "version": 3
   },
   "file_extension": ".py",
   "mimetype": "text/x-python",
   "name": "python",
   "nbconvert_exporter": "python",
   "pygments_lexer": "ipython3",
   "version": "3.10.12"
  }
 },
 "nbformat": 4,
 "nbformat_minor": 2
}
